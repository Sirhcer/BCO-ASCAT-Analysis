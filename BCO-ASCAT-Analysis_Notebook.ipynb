{
 "cells": [
  {
   "cell_type": "markdown",
   "id": "133d82ef",
   "metadata": {},
   "source": [
    "How the notebook works: \n",
    "Before each cell is explained which figure or table is generated as well as which function from the .py file is used.\n",
    "Use ctrl + enter to run each cell\n",
    "\n",
    "1. The necessary library are loaded in as well as the functions.py file as 'FT'"
   ]
  },
  {
   "cell_type": "code",
   "execution_count": null,
   "id": "27876bd2",
   "metadata": {},
   "outputs": [],
   "source": [
    "### Importing libraries\n",
    "\n",
    "import xarray as xr\n",
    "import intake\n",
    "import datetime as dt\n",
    "import numpy as np\n",
    "import matplotlib.pyplot as plt\n",
    "import datetime\n",
    "from netCDF4 import Dataset\n",
    "import Functions as FT"
   ]
  },
  {
   "cell_type": "markdown",
   "id": "d6f54641",
   "metadata": {},
   "source": [
    "2. The initial datasets are loaded, filtered and combined into one dataset.\n"
   ]
  },
  {
   "cell_type": "code",
   "execution_count": null,
   "id": "c9815845",
   "metadata": {},
   "outputs": [],
   "source": [
    "### loading data\n",
    "\n",
    "cat = intake.open_catalog(\"https://tcodata.mpimet.mpg.de/catalog.yaml\")\n",
    "Data_AC_B = xr.open_dataset('MetopB-ASCAT-at-BCO-asc-2016-2023.nc') ### extended Ascat data\n",
    "\n",
    "### lidar datasets\n",
    "coral_b_data = cat.BCO.lidar_CORAL_LR_b_c1_v1.to_dask() ### coral lidar data\n",
    "licht_b_data = cat.BCO.lidar_LICHT_LR_b_c2_v1.to_dask() ### licht lidar data\n",
    "\n",
    "### measurement time dataset and mean divergence of grid\n",
    "Data_AC_B_time =  Data_AC_B['measurement_time'].isel(latitude=0, longitude=0).astype('datetime64[ns]')\n",
    "Data_AC_B_mean = np.mean(Data_AC_B['wind_divergence'], axis=(1,2))\n",
    "\n",
    "\n",
    "licht_mr_data = licht_b_data['mr'].sel(alt=slice(60,5000))\n",
    "licht_mr_err_data = licht_b_data['mr_err'].sel(alt=slice(60,5000))\n",
    "coral_mr_data = coral_b_data['mr'].sel(alt=slice(60,5000))\n",
    "coral_mr_err_data = coral_b_data['mr_err'].sel(alt=slice(60,5000))\n",
    "\n",
    "### filtering of lidar data:\n",
    "licht_mr_filtered = FT.noise_reduce(licht_mr_err_data, licht_mr_data, licht_mr_err_data<0.0005)\n",
    "coral_mr_filtered = FT.noise_reduce(coral_mr_err_data, coral_mr_data, coral_mr_err_data<0.0005)\n",
    "\n",
    "lidar_combined_data = licht_mr_filtered.combine_first(coral_mr_filtered)\n",
    "\n",
    "\n",
    "Bco_wind_data = cat.BCO.surfacemet_wxt_v1.to_dask() ### wind data from BCO\n",
    "wind_speed = Bco_wind_data['VEL']\n"
   ]
  },
  {
   "cell_type": "markdown",
   "id": "6d6e18fa",
   "metadata": {},
   "source": [
    "3. All the necessary datasets are sampled and then saved into memory."
   ]
  },
  {
   "cell_type": "code",
   "execution_count": null,
   "id": "141bb160",
   "metadata": {},
   "outputs": [],
   "source": [
    "#AC_B_mean_ws = FT.wind_resample(Data_AC_B_mean, lidar_combined_data, Data_AC_B_time, dist=160000, wind_data=None)\n",
    "#FT.save_file('AC_B_total_meanWs.nc',AC_B_mean_ws)\n",
    "\n",
    "AC_B_total = FT.wind_resample(Data_AC_B_mean, lidar_combined_data, Data_AC_B_time, dist=160000, wind_data = wind_speed)\n",
    "#FT.save_file('AC_B_total.nc',AC_B_total)\n",
    "\n",
    "\n",
    "### dividing dataset into eastern half and western half\n",
    "\n",
    "lon_bins = [-60.1875, -59.49, -58.8125]\n",
    "lon_labels = ['low', 'high']\n",
    "AC_B_lon = Data_AC_B['longitude']\n",
    "\n",
    "lon_bingroup = Data_AC_B.groupby_bins(Data_AC_B['longitude'], lon_bins, labels=lon_labels)\n",
    "west_group = lon_bingroup['low'].mean(dim=('latitude','longitude'), skipna=True)\n",
    "print(west_group)\n",
    "\n",
    "east_group = lon_bingroup['high'].mean(dim=('latitude','longitude'), skipna=True)\n",
    "print(east_group)\n",
    "#west = FT.wind_resample(west_group, lidar_combined_data, Data_AC_B_time, dist=80000, wind_data = wind_speed)\n",
    "#east = FT.wind_resample(east_group, lidar_combined_data, Data_AC_B_time, dist=80000, wind_data = wind_speed)\n",
    "\n",
    "\n",
    "#FT.save_file('AC_B_west.nc', west)\n",
    "#FT.save_file('AC_B_east.nc', east)"
   ]
  },
  {
   "cell_type": "markdown",
   "id": "f9087fe5",
   "metadata": {},
   "source": [
    "4. Creating of seasonal datasets and saving all into memory"
   ]
  },
  {
   "cell_type": "code",
   "execution_count": null,
   "id": "6ebdb3b0",
   "metadata": {},
   "outputs": [],
   "source": [
    "total_DJF, total_MAM, total_JJA, total_SON = FT.seasons('AC_B_total.nc')\n",
    "east_DJF, east_MAM, east_JJA, east_SON = FT.seasons('AC_B_east.nc')\n",
    "\n",
    "FT.save_file('AC_B_total_DJF.nc', total_DJF)\n",
    "FT.save_file('AC_B_total_MAM.nc', total_MAM)\n",
    "FT.save_file('AC_B_total_JJA.nc', total_JJA)\n",
    "FT.save_file('AC_B_total_SON.nc', total_SON)\n",
    "\n",
    "FT.save_file('AC_B_east_DJF.nc', east_DJF)\n",
    "FT.save_file('AC_B_east_MAM.nc', east_MAM)\n",
    "FT.save_file('AC_B_east_JJA.nc', east_JJA)\n",
    "FT.save_file('AC_B_east_SON.nc', east_SON)\n",
    "\n",
    "east_AC = xr.open_dataset('AC_B_east.nc')\n",
    "print(east_AC)\n",
    "\n",
    "### mean wind speed for each quantile as in table 2:\n",
    "print(total_DJF.mean(dim='time'))\n",
    "print(total_MAM.mean(dim='time'))\n",
    "print(total_JJA.mean(dim='time'))\n",
    "print(total_SON.mean(dim='time'))"
   ]
  },
  {
   "cell_type": "markdown",
   "id": "9fc8264e",
   "metadata": {},
   "source": [
    "5. Creation of fluctuation plots for figures 1, 2 and 3"
   ]
  },
  {
   "cell_type": "code",
   "execution_count": null,
   "id": "96d1ab5b",
   "metadata": {},
   "outputs": [],
   "source": [
    "totalQ1, totalQ2, totalQ3, totalQ4 = FT.fluctuation_plots('AC_B_total.nc') ### Figure 1\n",
    "\n",
    "\n",
    "\n",
    "print('winter, total')\n",
    "FT.fluctuation_plots('AC_B_total_DJF.nc', season='winter') ### Figure 2a\n",
    "print('spring, total')\n",
    "FT.fluctuation_plots('AC_B_total_MAM.nc', season='spring') ### Figure 2b\n",
    "print('summer, total')\n",
    "FT.fluctuation_plots('AC_B_total_JJA.nc', season='summer') ### Figure 2c\n",
    "print('autumn, total')\n",
    "FT.fluctuation_plots('AC_B_total_SON.nc', season='autumn') ### Figure 2d\n",
    "\n",
    "\n",
    "\n",
    "print('winter, east')\n",
    "FT.fluctuation_plots('AC_B_east_DJF.nc', season='winter') ### Figure 3a\n",
    "print('spring, east')\n",
    "FT.fluctuation_plots('AC_B_east_MAM.nc', season='spring') ### Figure 3b\n",
    "print('summer, east')\n",
    "FT.fluctuation_plots('AC_B_east_JJA.nc', season='summer') ### Figure 3c\n",
    "print('autumn, east')\n",
    "FT.fluctuation_plots('AC_B_east_SON.nc', season='autumn') ### Figure 3d\n",
    "\n"
   ]
  },
  {
   "cell_type": "markdown",
   "id": "284fbc78",
   "metadata": {},
   "source": [
    "6. Creation of figures 4, 5a and 5b"
   ]
  },
  {
   "cell_type": "code",
   "execution_count": null,
   "id": "c2f85ef3",
   "metadata": {},
   "outputs": [],
   "source": [
    "FT.compare('AC_B_total.nc', 'AC_B_total_meanWs.nc') ### comparing wind speed methods\n",
    "FT.compare('AC_B_east.nc', 'AC_B_west.nc') ### comparing eastern half with western half\n"
   ]
  }
 ],
 "metadata": {
  "kernelspec": {
   "display_name": "tco_env",
   "language": "python",
   "name": "tco_env"
  },
  "language_info": {
   "codemirror_mode": {
    "name": "ipython",
    "version": 3
   },
   "file_extension": ".py",
   "mimetype": "text/x-python",
   "name": "python",
   "nbconvert_exporter": "python",
   "pygments_lexer": "ipython3",
   "version": "3.10.13"
  }
 },
 "nbformat": 4,
 "nbformat_minor": 5
}
